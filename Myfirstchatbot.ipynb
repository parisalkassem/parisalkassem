{
  "nbformat": 4,
  "nbformat_minor": 0,
  "metadata": {
    "colab": {
      "name": "Untitled0.ipynb",
      "provenance": [],
      "collapsed_sections": [],
      "authorship_tag": "ABX9TyNeq+pKc+aoVvGVLcQTGikB",
      "include_colab_link": true
    },
    "kernelspec": {
      "name": "python3",
      "display_name": "Python 3"
    },
    "language_info": {
      "name": "python"
    }
  },
  "cells": [
    {
      "cell_type": "markdown",
      "metadata": {
        "id": "view-in-github",
        "colab_type": "text"
      },
      "source": [
        "<a href=\"https://colab.research.google.com/github/parisalkassem/parisalkassem/blob/main/Myfirstchatbot.ipynb\" target=\"_parent\"><img src=\"https://colab.research.google.com/assets/colab-badge.svg\" alt=\"Open In Colab\"/></a>"
      ]
    },
    {
      "cell_type": "code",
      "metadata": {
        "colab": {
          "base_uri": "https://localhost:8080/"
        },
        "id": "Gx8ocLSQ2tjq",
        "outputId": "e1630559-3013-406a-ccae-a1dde07fda19"
      },
      "source": [
        "pip install chatterbot"
      ],
      "execution_count": 1,
      "outputs": [
        {
          "output_type": "stream",
          "name": "stdout",
          "text": [
            "Collecting chatterbot\n",
            "  Downloading ChatterBot-1.0.8-py2.py3-none-any.whl (63 kB)\n",
            "\u001b[?25l\r\u001b[K     |█████▏                          | 10 kB 24.5 MB/s eta 0:00:01\r\u001b[K     |██████████▎                     | 20 kB 25.6 MB/s eta 0:00:01\r\u001b[K     |███████████████▌                | 30 kB 28.7 MB/s eta 0:00:01\r\u001b[K     |████████████████████▋           | 40 kB 32.0 MB/s eta 0:00:01\r\u001b[K     |█████████████████████████▊      | 51 kB 34.9 MB/s eta 0:00:01\r\u001b[K     |███████████████████████████████ | 61 kB 37.3 MB/s eta 0:00:01\r\u001b[K     |████████████████████████████████| 63 kB 2.6 MB/s \n",
            "\u001b[?25hRequirement already satisfied: pytz in /usr/local/lib/python3.7/dist-packages (from chatterbot) (2018.9)\n",
            "Requirement already satisfied: python-dateutil<2.9,>=2.8 in /usr/local/lib/python3.7/dist-packages (from chatterbot) (2.8.2)\n",
            "Collecting mathparse<0.2,>=0.1\n",
            "  Downloading mathparse-0.1.2-py3-none-any.whl (7.2 kB)\n",
            "Collecting sqlalchemy<1.4,>=1.3\n",
            "  Downloading SQLAlchemy-1.3.24-cp37-cp37m-manylinux2010_x86_64.whl (1.3 MB)\n",
            "\u001b[K     |████████████████████████████████| 1.3 MB 36.8 MB/s \n",
            "\u001b[?25hRequirement already satisfied: six>=1.5 in /usr/local/lib/python3.7/dist-packages (from python-dateutil<2.9,>=2.8->chatterbot) (1.15.0)\n",
            "Installing collected packages: sqlalchemy, mathparse, chatterbot\n",
            "  Attempting uninstall: sqlalchemy\n",
            "    Found existing installation: SQLAlchemy 1.4.25\n",
            "    Uninstalling SQLAlchemy-1.4.25:\n",
            "      Successfully uninstalled SQLAlchemy-1.4.25\n",
            "Successfully installed chatterbot-1.0.8 mathparse-0.1.2 sqlalchemy-1.3.24\n"
          ]
        }
      ]
    },
    {
      "cell_type": "code",
      "metadata": {
        "colab": {
          "base_uri": "https://localhost:8080/"
        },
        "id": "QE0tE_OK2_aD",
        "outputId": "889628e5-1f5c-4a7c-e8a3-3b154b52cef3"
      },
      "source": [
        "pip install chatterbot-corpus"
      ],
      "execution_count": 2,
      "outputs": [
        {
          "output_type": "stream",
          "name": "stdout",
          "text": [
            "Collecting chatterbot-corpus\n",
            "  Downloading chatterbot_corpus-1.2.0-py2.py3-none-any.whl (117 kB)\n",
            "\u001b[?25l\r\u001b[K     |██▉                             | 10 kB 26.7 MB/s eta 0:00:01\r\u001b[K     |█████▋                          | 20 kB 28.6 MB/s eta 0:00:01\r\u001b[K     |████████▍                       | 30 kB 30.0 MB/s eta 0:00:01\r\u001b[K     |███████████▏                    | 40 kB 32.5 MB/s eta 0:00:01\r\u001b[K     |██████████████                  | 51 kB 33.2 MB/s eta 0:00:01\r\u001b[K     |████████████████▊               | 61 kB 34.2 MB/s eta 0:00:01\r\u001b[K     |███████████████████▋            | 71 kB 35.4 MB/s eta 0:00:01\r\u001b[K     |██████████████████████▍         | 81 kB 37.4 MB/s eta 0:00:01\r\u001b[K     |█████████████████████████▏      | 92 kB 39.5 MB/s eta 0:00:01\r\u001b[K     |████████████████████████████    | 102 kB 41.5 MB/s eta 0:00:01\r\u001b[K     |██████████████████████████████▊ | 112 kB 41.5 MB/s eta 0:00:01\r\u001b[K     |████████████████████████████████| 117 kB 41.5 MB/s \n",
            "\u001b[?25hRequirement already satisfied: PyYAML<4.0,>=3.12 in /usr/local/lib/python3.7/dist-packages (from chatterbot-corpus) (3.13)\n",
            "Installing collected packages: chatterbot-corpus\n",
            "Successfully installed chatterbot-corpus-1.2.0\n"
          ]
        }
      ]
    },
    {
      "cell_type": "code",
      "metadata": {
        "colab": {
          "base_uri": "https://localhost:8080/"
        },
        "id": "e21_kR6z3ORb",
        "outputId": "9241f611-0d66-4598-d1d6-65bb5941bd7c"
      },
      "source": [
        "# Import \"chatbot\" from\n",
        "# chatterbpt package\n",
        "from chatterbot import ChatBot\n",
        "\n",
        "# Inoreder to train our bot, we have\n",
        "# to import a trainer package \n",
        "# \"ListTrainer\"\n",
        "from chatterbot.trainers import ListTrainer\n",
        "\n",
        "# Give a name to the chatbot \"Ny Bot\"\n",
        "# and assign a trainer component.\n",
        "bot = ChatBot(\"My Bot\")\n",
        "\n",
        "#Create a list of question and answer pair\n",
        "corpus = [\n",
        "          'Hi',\n",
        "          'Hello!!',\n",
        "          'What is your name?',\n",
        "          'My name is Bot, Paris Bot',\n",
        "          'How it is going?',\n",
        "          'It is going very well',\n",
        "          'Are you interested in visiting Expo 2020?',\n",
        "          'Yes, I am interested in visiting and learning frfom Expo 2020',\n",
        "          'Have you ever been tried the virtual tour?',\n",
        "          'Yes, I tried that in Adnoc competetion for science, it was mesmerize'\n",
        "]\n",
        "\n",
        "trainer = ListTrainer(bot)\n",
        "\n",
        "# now training the bot with the help of trainer\n",
        "\n",
        "trainer.train(corpus)\n",
        "\n",
        "answer = bot.get_response(\"what is your name?\")\n",
        "print(answer)\n",
        "\n",
        "#Getting a response from your chatbot for multiple iterations until user does not type exit in command\n",
        "print(\"Talk to bot \")\n",
        "while True:\n",
        "     query = input() \n",
        "     if query == 'exit' :  \n",
        "       break\n",
        "     answer = bot.get_response(query)\n",
        "     print(\"bot : \", answer)"
      ],
      "execution_count": 7,
      "outputs": [
        {
          "name": "stdout",
          "output_type": "stream",
          "text": [
            "List Trainer: [####################] 100%\n",
            "My name is Bot, Paris Bot\n",
            "Talk to bot \n",
            "exit\n"
          ]
        }
      ]
    }
  ]
}